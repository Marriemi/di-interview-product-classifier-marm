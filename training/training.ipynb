{
 "cells": [
  {
   "cell_type": "code",
   "execution_count": 7,
   "metadata": {
    "collapsed": false,
    "jupyter": {
     "outputs_hidden": false
    },
    "pycharm": {
     "name": "#%%\n"
    }
   },
   "outputs": [],
   "source": [
    "from google.cloud import bigquery"
   ]
  },
  {
   "cell_type": "code",
   "execution_count": 8,
   "metadata": {},
   "outputs": [],
   "source": [
    "import warnings\n",
    "warnings.filterwarnings(\"ignore\")\n",
    "warnings.simplefilter(\"ignore\", UserWarning)"
   ]
  },
  {
   "cell_type": "code",
   "execution_count": 13,
   "metadata": {},
   "outputs": [],
   "source": [
    "client_bq = bigquery.Client.from_service_account_json(\"./credentials.json\", project='charged-dialect-824')"
   ]
  },
  {
   "cell_type": "markdown",
   "metadata": {
    "collapsed": false,
    "jupyter": {
     "outputs_hidden": false
    }
   },
   "source": [
    "# Loading data from BQ"
   ]
  },
  {
   "cell_type": "code",
   "execution_count": 18,
   "metadata": {
    "collapsed": false,
    "jupyter": {
     "outputs_hidden": false
    },
    "pycharm": {
     "name": "#%%\n"
    }
   },
   "outputs": [],
   "source": [
    "def load_bq_data(_sql):\n",
    "    _df = client_bq.query(_sql).to_dataframe()\n",
    "    return _df"
   ]
  },
  {
   "cell_type": "code",
   "execution_count": 20,
   "metadata": {
    "collapsed": false,
    "jupyter": {
     "outputs_hidden": false
    },
    "pycharm": {
     "name": "#%%\n"
    }
   },
   "outputs": [
    {
     "data": {
      "text/html": [
       "<div>\n",
       "<style scoped>\n",
       "    .dataframe tbody tr th:only-of-type {\n",
       "        vertical-align: middle;\n",
       "    }\n",
       "\n",
       "    .dataframe tbody tr th {\n",
       "        vertical-align: top;\n",
       "    }\n",
       "\n",
       "    .dataframe thead th {\n",
       "        text-align: right;\n",
       "    }\n",
       "</style>\n",
       "<table border=\"1\" class=\"dataframe\">\n",
       "  <thead>\n",
       "    <tr style=\"text-align: right;\">\n",
       "      <th></th>\n",
       "      <th>articleId</th>\n",
       "      <th>title</th>\n",
       "      <th>subtitle</th>\n",
       "      <th>productType</th>\n",
       "    </tr>\n",
       "  </thead>\n",
       "  <tbody>\n",
       "    <tr>\n",
       "      <th>0</th>\n",
       "      <td>-3393892867263864215</td>\n",
       "      <td>Gone Is Gone - Echolocation</td>\n",
       "      <td>Gone Is Gone - Echolocation</td>\n",
       "      <td>cd</td>\n",
       "    </tr>\n",
       "    <tr>\n",
       "      <th>1</th>\n",
       "      <td>-2831118468819601923</td>\n",
       "      <td>Ekseption-The Lost Last Concert Tapes...</td>\n",
       "      <td>The Lost Last Concert Tapes (Box-Set)</td>\n",
       "      <td>cd</td>\n",
       "    </tr>\n",
       "    <tr>\n",
       "      <th>2</th>\n",
       "      <td>6835807414137785977</td>\n",
       "      <td>PORTISHEAD CD-Sammlung 3 CDs #16</td>\n",
       "      <td>Kollektion für Fans der Trip-Hop-Pioniere aus ...</td>\n",
       "      <td>cd</td>\n",
       "    </tr>\n",
       "    <tr>\n",
       "      <th>3</th>\n",
       "      <td>-4912458353746230865</td>\n",
       "      <td>Primeon CD-R Rohlinge (bunt)</td>\n",
       "      <td>39 Stück auf der Spindel</td>\n",
       "      <td>cd</td>\n",
       "    </tr>\n",
       "    <tr>\n",
       "      <th>4</th>\n",
       "      <td>1496864991301777371</td>\n",
       "      <td>Adonia - Zmittst im Füür</td>\n",
       "      <td>Markus Hottiger / Markus Heusser</td>\n",
       "      <td>cd</td>\n",
       "    </tr>\n",
       "  </tbody>\n",
       "</table>\n",
       "</div>"
      ],
      "text/plain": [
       "              articleId                                     title  \\\n",
       "0  -3393892867263864215               Gone Is Gone - Echolocation   \n",
       "1  -2831118468819601923  Ekseption-The Lost Last Concert Tapes...   \n",
       "2   6835807414137785977          PORTISHEAD CD-Sammlung 3 CDs #16   \n",
       "3  -4912458353746230865              Primeon CD-R Rohlinge (bunt)   \n",
       "4   1496864991301777371                  Adonia - Zmittst im Füür   \n",
       "\n",
       "                                            subtitle productType  \n",
       "0                        Gone Is Gone - Echolocation          cd  \n",
       "1              The Lost Last Concert Tapes (Box-Set)          cd  \n",
       "2  Kollektion für Fans der Trip-Hop-Pioniere aus ...          cd  \n",
       "3                           39 Stück auf der Spindel          cd  \n",
       "4                   Markus Hottiger / Markus Heusser          cd  "
      ]
     },
     "execution_count": 20,
     "metadata": {},
     "output_type": "execute_result"
    }
   ],
   "source": [
    "sql = \"\"\"\n",
    "SELECT *\n",
    "FROM RicardoInterview.product_detection_training_data\n",
    "\"\"\"\n",
    "df_load = load_bq_data(sql)\n",
    "len(df_load)\n",
    "df_load.head()"
   ]
  },
  {
   "cell_type": "markdown",
   "metadata": {},
   "source": [
    "## Dataset EDA"
   ]
  },
  {
   "cell_type": "code",
   "execution_count": 21,
   "metadata": {},
   "outputs": [
    {
     "data": {
      "text/plain": [
       "(37567, 4)"
      ]
     },
     "execution_count": 21,
     "metadata": {},
     "output_type": "execute_result"
    }
   ],
   "source": [
    "df_load.shape"
   ]
  },
  {
   "cell_type": "code",
   "execution_count": 23,
   "metadata": {},
   "outputs": [
    {
     "data": {
      "text/plain": [
       "productType\n",
       "cd            99\n",
       "birdhouse     99\n",
       "kickboard     99\n",
       "hard_disk     99\n",
       "garderobe     99\n",
       "              ..\n",
       "holster       63\n",
       "handrail      61\n",
       "jukebox       60\n",
       "dump_truck    52\n",
       "marble        48\n",
       "Name: count, Length: 383, dtype: int64"
      ]
     },
     "execution_count": 23,
     "metadata": {},
     "output_type": "execute_result"
    }
   ],
   "source": [
    "df_load['productType'].value_counts()"
   ]
  },
  {
   "cell_type": "code",
   "execution_count": 24,
   "metadata": {},
   "outputs": [
    {
     "data": {
      "text/plain": [
       "383"
      ]
     },
     "execution_count": 24,
     "metadata": {},
     "output_type": "execute_result"
    }
   ],
   "source": [
    "df_load['productType'].nunique()"
   ]
  },
  {
   "cell_type": "code",
   "execution_count": 25,
   "metadata": {},
   "outputs": [
    {
     "data": {
      "text/plain": [
       "articleId      0\n",
       "title          0\n",
       "subtitle       0\n",
       "productType    0\n",
       "dtype: int64"
      ]
     },
     "execution_count": 25,
     "metadata": {},
     "output_type": "execute_result"
    }
   ],
   "source": [
    "(df_load.isnull()|df_load=='').sum()"
   ]
  },
  {
   "cell_type": "markdown",
   "metadata": {},
   "source": [
    "### Note: \n",
    "\n",
    "The dataset is of medium size. We have a wide range of product types, and the classes are balanced, no nulls"
   ]
  },
  {
   "cell_type": "markdown",
   "metadata": {},
   "source": [
    "## Model Prep"
   ]
  },
  {
   "cell_type": "code",
   "execution_count": 162,
   "metadata": {},
   "outputs": [],
   "source": [
    "import pandas as pd\n",
    "import numpy as np\n",
    "\n",
    "import torch\n",
    "from torch.utils.data import DataLoader, Dataset, TensorDataset\n",
    "\n",
    "from sklearn.model_selection import train_test_split\n",
    "from sklearn.preprocessing import LabelEncoder\n",
    "from sklearn.feature_extraction.text import TfidfVectorizer\n",
    "from sklearn.model_selection import train_test_split, GridSearchCV\n",
    "from sklearn.metrics import accuracy_score, classification_report, precision_score, recall_score, f1_score, roc_auc_score, average_precision_score\n",
    "from xgboost import XGBClassifier\n",
    "\n",
    "\n",
    "from transformers import BertTokenizer, BertForSequenceClassification, AdamW, DistilBertForSequenceClassification, DistilBertTokenizer, get_scheduler\n",
    "\n",
    "from tqdm import tqdm\n",
    "\n",
    "import re\n",
    "import nltk\n",
    "from nltk.corpus import stopwords\n",
    "\n",
    "from xgboost import XGBClassifier\n",
    "import matplotlib.pyplot as plt\n",
    "\n",
    "import scipy.sparse\n",
    "import joblib\n"
   ]
  },
  {
   "cell_type": "code",
   "execution_count": 27,
   "metadata": {},
   "outputs": [],
   "source": [
    "df_load['text'] = df_load['title'] + \" \" + df_load['subtitle']"
   ]
  },
  {
   "cell_type": "code",
   "execution_count": 28,
   "metadata": {},
   "outputs": [],
   "source": [
    "df = df_load[[\"text\", \"productType\"]].copy()"
   ]
  },
  {
   "cell_type": "code",
   "execution_count": 29,
   "metadata": {},
   "outputs": [],
   "source": [
    "label_encoder = LabelEncoder()"
   ]
  },
  {
   "cell_type": "code",
   "execution_count": 30,
   "metadata": {},
   "outputs": [],
   "source": [
    "df['label'] = label_encoder.fit_transform(df['productType'])"
   ]
  },
  {
   "cell_type": "code",
   "execution_count": 31,
   "metadata": {},
   "outputs": [
    {
     "data": {
      "text/html": [
       "<div>\n",
       "<style scoped>\n",
       "    .dataframe tbody tr th:only-of-type {\n",
       "        vertical-align: middle;\n",
       "    }\n",
       "\n",
       "    .dataframe tbody tr th {\n",
       "        vertical-align: top;\n",
       "    }\n",
       "\n",
       "    .dataframe thead th {\n",
       "        text-align: right;\n",
       "    }\n",
       "</style>\n",
       "<table border=\"1\" class=\"dataframe\">\n",
       "  <thead>\n",
       "    <tr style=\"text-align: right;\">\n",
       "      <th></th>\n",
       "      <th>text</th>\n",
       "      <th>productType</th>\n",
       "      <th>label</th>\n",
       "    </tr>\n",
       "  </thead>\n",
       "  <tbody>\n",
       "    <tr>\n",
       "      <th>0</th>\n",
       "      <td>Gone Is Gone - Echolocation Gone Is Gone - Ech...</td>\n",
       "      <td>cd</td>\n",
       "      <td>81</td>\n",
       "    </tr>\n",
       "    <tr>\n",
       "      <th>1</th>\n",
       "      <td>Ekseption-The Lost Last Concert Tapes... The L...</td>\n",
       "      <td>cd</td>\n",
       "      <td>81</td>\n",
       "    </tr>\n",
       "    <tr>\n",
       "      <th>2</th>\n",
       "      <td>PORTISHEAD CD-Sammlung 3 CDs #16 Kollektion fü...</td>\n",
       "      <td>cd</td>\n",
       "      <td>81</td>\n",
       "    </tr>\n",
       "    <tr>\n",
       "      <th>3</th>\n",
       "      <td>Primeon CD-R Rohlinge (bunt) 39 Stück auf der ...</td>\n",
       "      <td>cd</td>\n",
       "      <td>81</td>\n",
       "    </tr>\n",
       "    <tr>\n",
       "      <th>4</th>\n",
       "      <td>Adonia - Zmittst im Füür Markus Hottiger / Mar...</td>\n",
       "      <td>cd</td>\n",
       "      <td>81</td>\n",
       "    </tr>\n",
       "  </tbody>\n",
       "</table>\n",
       "</div>"
      ],
      "text/plain": [
       "                                                text productType  label\n",
       "0  Gone Is Gone - Echolocation Gone Is Gone - Ech...          cd     81\n",
       "1  Ekseption-The Lost Last Concert Tapes... The L...          cd     81\n",
       "2  PORTISHEAD CD-Sammlung 3 CDs #16 Kollektion fü...          cd     81\n",
       "3  Primeon CD-R Rohlinge (bunt) 39 Stück auf der ...          cd     81\n",
       "4  Adonia - Zmittst im Füür Markus Hottiger / Mar...          cd     81"
      ]
     },
     "execution_count": 31,
     "metadata": {},
     "output_type": "execute_result"
    }
   ],
   "source": [
    "df.head()"
   ]
  },
  {
   "cell_type": "code",
   "execution_count": 36,
   "metadata": {},
   "outputs": [],
   "source": [
    "label_map = dict(zip(label_encoder.classes_, range(len(label_encoder.classes_))))\n"
   ]
  },
  {
   "cell_type": "code",
   "execution_count": 39,
   "metadata": {},
   "outputs": [],
   "source": [
    "train_texts, temp_texts, train_labels, temp_labels = train_test_split(\n",
    "    df[\"text\"].tolist(), df[\"label\"].tolist(), test_size=0.2, random_state=42, stratify=df[\"label\"]\n",
    ")\n",
    "\n",
    "val_texts, test_texts, val_labels, test_labels = train_test_split(\n",
    "    temp_texts, temp_labels, test_size=0.5, random_state=42, stratify=temp_labels\n",
    ")"
   ]
  },
  {
   "cell_type": "markdown",
   "metadata": {},
   "source": [
    "# BERT"
   ]
  },
  {
   "cell_type": "code",
   "execution_count": 72,
   "metadata": {},
   "outputs": [],
   "source": [
    "tokenizer = DistilBertTokenizer.from_pretrained(\"distilbert-base-uncased\")"
   ]
  },
  {
   "cell_type": "code",
   "execution_count": 74,
   "metadata": {},
   "outputs": [
    {
     "name": "stdout",
     "output_type": "stream",
     "text": [
      "Optimal max_length: 32\n"
     ]
    }
   ],
   "source": [
    "token_lengths = [len(tokenizer.tokenize(text)) for text in df[\"text\"]]\n",
    "max_length = int(np.percentile(token_lengths, 95))\n",
    "\n",
    "print(f\"Optimal max_length: {max_length}\")"
   ]
  },
  {
   "cell_type": "code",
   "execution_count": 75,
   "metadata": {},
   "outputs": [],
   "source": [
    "train_encodings = tokenizer(train_texts, truncation=True, padding=True, max_length=max_length, return_tensors=\"pt\")\n",
    "val_encodings = tokenizer(val_texts, truncation=True, padding=True, max_length=max_length, return_tensors=\"pt\")\n",
    "test_encodings = tokenizer(test_texts, truncation=True, padding=True, max_length=max_length, return_tensors=\"pt\")"
   ]
  },
  {
   "cell_type": "code",
   "execution_count": 76,
   "metadata": {},
   "outputs": [],
   "source": [
    "train_labels = torch.tensor(train_labels)\n",
    "val_labels = torch.tensor(val_labels)\n",
    "test_labels = torch.tensor(test_labels)"
   ]
  },
  {
   "cell_type": "code",
   "execution_count": 77,
   "metadata": {},
   "outputs": [],
   "source": [
    "train_dataset = TensorDataset(train_encodings[\"input_ids\"], train_encodings[\"attention_mask\"], train_labels)\n",
    "val_dataset = TensorDataset(val_encodings[\"input_ids\"], val_encodings[\"attention_mask\"], val_labels)\n",
    "test_dataset = TensorDataset(test_encodings[\"input_ids\"], test_encodings[\"attention_mask\"], test_labels)"
   ]
  },
  {
   "cell_type": "code",
   "execution_count": 78,
   "metadata": {},
   "outputs": [],
   "source": [
    "train_loader = DataLoader(train_dataset, batch_size=32, shuffle=True)\n",
    "val_loader = DataLoader(val_dataset, batch_size=32, shuffle=False)\n",
    "test_loader = DataLoader(test_dataset, batch_size=32, shuffle=False)"
   ]
  },
  {
   "cell_type": "code",
   "execution_count": 79,
   "metadata": {},
   "outputs": [],
   "source": [
    "num_labels = len(label_encoder.classes_)"
   ]
  },
  {
   "cell_type": "code",
   "execution_count": 81,
   "metadata": {},
   "outputs": [
    {
     "name": "stderr",
     "output_type": "stream",
     "text": [
      "Some weights of DistilBertForSequenceClassification were not initialized from the model checkpoint at distilbert-base-uncased and are newly initialized: ['classifier.bias', 'classifier.weight', 'pre_classifier.bias', 'pre_classifier.weight']\n",
      "You should probably TRAIN this model on a down-stream task to be able to use it for predictions and inference.\n"
     ]
    }
   ],
   "source": [
    "\n",
    "model = DistilBertForSequenceClassification.from_pretrained(\"distilbert-base-uncased\", num_labels=num_labels)\n"
   ]
  },
  {
   "cell_type": "code",
   "execution_count": 82,
   "metadata": {},
   "outputs": [],
   "source": [
    "optimizer = AdamW(model.parameters(), lr=0.00002)\n",
    "\n",
    "num_training_steps = len(train_loader) * 3 \n",
    "lr_scheduler = get_scheduler(\"linear\", optimizer=optimizer, num_warmup_steps=0, num_training_steps=num_training_steps)"
   ]
  },
  {
   "cell_type": "code",
   "execution_count": 83,
   "metadata": {},
   "outputs": [],
   "source": [
    "device = torch.device(\"mps\")"
   ]
  },
  {
   "cell_type": "code",
   "execution_count": 84,
   "metadata": {},
   "outputs": [],
   "source": [
    "model.to(device);"
   ]
  },
  {
   "cell_type": "code",
   "execution_count": 119,
   "metadata": {},
   "outputs": [],
   "source": [
    "def train_model(model, train_loader, val_loader, optimizer, lr_scheduler, epochs=3):\n",
    "    model.train()\n",
    "    for epoch in range(epochs):\n",
    "        loop = tqdm(train_loader, leave=True)\n",
    "        for batch in loop:\n",
    "            batch = tuple(t.to(device) for t in batch)\n",
    "            input_ids, attention_mask, labels = batch\n",
    "\n",
    "            outputs = model(input_ids, attention_mask=attention_mask, labels=labels)\n",
    "            loss = outputs.loss\n",
    "\n",
    "            optimizer.zero_grad()\n",
    "            loss.backward()\n",
    "            optimizer.step()\n",
    "            lr_scheduler.step()\n",
    "\n",
    "            loop.set_description(f\"Epoch {epoch+1}\")\n",
    "            loop.set_postfix(loss=loss.item())\n"
   ]
  },
  {
   "cell_type": "code",
   "execution_count": 121,
   "metadata": {},
   "outputs": [
    {
     "name": "stderr",
     "output_type": "stream",
     "text": [
      "Epoch 1: 100%|█████████████████████| 940/940 [20:29<00:00,  1.31s/it, loss=5.54]\n",
      "Epoch 2: 100%|█████████████████████| 940/940 [18:29<00:00,  1.18s/it, loss=3.37]\n",
      "Epoch 3: 100%|█████████████████████| 940/940 [19:09<00:00,  1.22s/it, loss=3.53]\n"
     ]
    }
   ],
   "source": [
    "train_model(model, train_loader, val_loader, optimizer, lr_scheduler)"
   ]
  },
  {
   "cell_type": "markdown",
   "metadata": {},
   "source": [
    "## Save model and Load after"
   ]
  },
  {
   "cell_type": "code",
   "execution_count": 123,
   "metadata": {},
   "outputs": [
    {
     "data": {
      "text/plain": [
       "('bert_tokenizer/tokenizer_config.json',\n",
       " 'bert_tokenizer/special_tokens_map.json',\n",
       " 'bert_tokenizer/vocab.txt',\n",
       " 'bert_tokenizer/added_tokens.json')"
      ]
     },
     "execution_count": 123,
     "metadata": {},
     "output_type": "execute_result"
    }
   ],
   "source": [
    "# import torch\n",
    "\n",
    "# # Define save path\n",
    "# model_save_path = \"bert_model.pth\"\n",
    "\n",
    "# # Save model and optimizer\n",
    "# torch.save({\n",
    "#     'model_state_dict': model.state_dict(),\n",
    "#     'optimizer_state_dict': optimizer.state_dict()\n",
    "# }, model_save_path)\n",
    "\n",
    "# # Save tokenizer (important for loading later)\n",
    "# tokenizer.save_pretrained(\"bert_tokenizer\")\n"
   ]
  },
  {
   "cell_type": "code",
   "execution_count": 175,
   "metadata": {},
   "outputs": [],
   "source": [
    "label_names = label_encoder.classes_.tolist()\n",
    "\n",
    "with open(\"labels.json\", \"w\") as f:\n",
    "    json.dump({str(i): name for i, name in enumerate(label_names)}, f)"
   ]
  },
  {
   "cell_type": "code",
   "execution_count": 93,
   "metadata": {},
   "outputs": [
    {
     "name": "stderr",
     "output_type": "stream",
     "text": [
      "Some weights of DistilBertForSequenceClassification were not initialized from the model checkpoint at distilbert-base-uncased and are newly initialized: ['classifier.bias', 'classifier.weight', 'pre_classifier.bias', 'pre_classifier.weight']\n",
      "You should probably TRAIN this model on a down-stream task to be able to use it for predictions and inference.\n",
      "The tokenizer class you load from this checkpoint is not the same type as the class this function is called from. It may result in unexpected tokenization. \n",
      "The tokenizer class you load from this checkpoint is 'BertTokenizer'. \n",
      "The class this function is called from is 'DistilBertTokenizer'.\n"
     ]
    },
    {
     "name": "stdout",
     "output_type": "stream",
     "text": [
      "Model and tokenizer loaded successfully!\n"
     ]
    }
   ],
   "source": [
    "model_load_path = \"bert_model.pth\"\n",
    "\n",
    "model = DistilBertForSequenceClassification.from_pretrained(\"distilbert-base-uncased\", num_labels=num_labels) \n",
    "model.load_state_dict(torch.load(model_load_path)['model_state_dict'])\n",
    "model.to(device)  \n",
    "\n",
    "tokenizer = DistilBertTokenizer.from_pretrained(\"bert_tokenizer\")\n",
    "\n",
    "print(\"Model and tokenizer loaded successfully!\")"
   ]
  },
  {
   "cell_type": "code",
   "execution_count": null,
   "metadata": {},
   "outputs": [],
   "source": []
  },
  {
   "cell_type": "markdown",
   "metadata": {},
   "source": [
    "## Model Evaluation"
   ]
  },
  {
   "cell_type": "code",
   "execution_count": 96,
   "metadata": {},
   "outputs": [],
   "source": [
    "def evaluate_overall_metrics(model, data_loader, device, label_encoder, dataset_name=\"Dataset\"):\n",
    "\n",
    "    model.eval()\n",
    "    predictions, true_labels, probabilities = [], [], []\n",
    "\n",
    "    with torch.no_grad():\n",
    "        for batch in data_loader:\n",
    "            batch = tuple(t.to(device) for t in batch)  \n",
    "            input_ids, attention_mask, labels = batch\n",
    "\n",
    "            outputs = model(input_ids, attention_mask=attention_mask)\n",
    "            probs = torch.nn.functional.softmax(outputs.logits, dim=1)  \n",
    "            preds = torch.argmax(probs, dim=1)  \n",
    "\n",
    "            predictions.extend(preds.cpu().numpy())\n",
    "            true_labels.extend(labels.cpu().numpy())\n",
    "            probabilities.extend(probs.cpu().numpy())\n",
    "\n",
    "\n",
    "    predictions = np.array(predictions)\n",
    "    true_labels = np.array(true_labels)\n",
    "    probabilities = np.array(probabilities)\n",
    "\n",
    "    class_report_dict = classification_report(true_labels, predictions, output_dict=True)\n",
    "\n",
    "    true_one_hot = np.eye(len(label_encoder.classes_))[true_labels]\n",
    "    roc_auc_macro = roc_auc_score(true_one_hot, probabilities, multi_class=\"ovr\", average=\"macro\")\n",
    "    pr_auc_macro = average_precision_score(true_one_hot, probabilities, average=\"macro\")\n",
    "\n",
    "    overall_metrics = {\n",
    "        \"Dataset\": dataset_name,\n",
    "        \"Accuracy\": class_report_dict[\"accuracy\"],\n",
    "        \"Precision (Macro)\": class_report_dict[\"macro avg\"][\"precision\"],\n",
    "        \"Recall (Macro)\": class_report_dict[\"macro avg\"][\"recall\"],\n",
    "        \"F1-Score (Macro)\": class_report_dict[\"macro avg\"][\"f1-score\"],\n",
    "        \"Precision (Weighted)\": class_report_dict[\"weighted avg\"][\"precision\"],\n",
    "        \"Recall (Weighted)\": class_report_dict[\"weighted avg\"][\"recall\"],\n",
    "        \"F1-Score (Weighted)\": class_report_dict[\"weighted avg\"][\"f1-score\"],\n",
    "        \"AUC-ROC (Macro)\": roc_auc_macro,\n",
    "        \"AUC-PR (Macro)\": pr_auc_macro\n",
    "    }\n",
    "\n",
    "    print(f\"\\n=== {dataset_name} Metrics ===\")\n",
    "    for metric, value in overall_metrics.items():\n",
    "        if metric != \"Dataset\":\n",
    "            print(f\"{metric}: {value:.4f}\")\n",
    "\n",
    "    return overall_metrics\n"
   ]
  },
  {
   "cell_type": "code",
   "execution_count": 98,
   "metadata": {},
   "outputs": [
    {
     "name": "stdout",
     "output_type": "stream",
     "text": [
      "\n",
      "=== Train Metrics ===\n",
      "Accuracy: 0.5976\n",
      "Precision (Macro): 0.6473\n",
      "Recall (Macro): 0.5958\n",
      "F1-Score (Macro): 0.5702\n",
      "Precision (Weighted): 0.6471\n",
      "Recall (Weighted): 0.5976\n",
      "F1-Score (Weighted): 0.5712\n",
      "AUC-ROC (Macro): 0.9721\n",
      "AUC-PR (Macro): 0.6822\n",
      "\n",
      "=== Validation Metrics ===\n",
      "Accuracy: 0.5550\n",
      "Precision (Macro): 0.5806\n",
      "Recall (Macro): 0.5529\n",
      "F1-Score (Macro): 0.5233\n",
      "Precision (Weighted): 0.5820\n",
      "Recall (Weighted): 0.5550\n",
      "F1-Score (Weighted): 0.5250\n",
      "AUC-ROC (Macro): 0.9489\n",
      "AUC-PR (Macro): 0.6187\n",
      "\n",
      "=== Test Metrics ===\n",
      "Accuracy: 0.5571\n",
      "Precision (Macro): 0.5814\n",
      "Recall (Macro): 0.5558\n",
      "F1-Score (Macro): 0.5253\n",
      "Precision (Weighted): 0.5816\n",
      "Recall (Weighted): 0.5571\n",
      "F1-Score (Weighted): 0.5260\n",
      "AUC-ROC (Macro): 0.9488\n",
      "AUC-PR (Macro): 0.6333\n"
     ]
    }
   ],
   "source": [
    "train_metrics = evaluate_overall_metrics(model, train_loader, device, label_encoder, dataset_name=\"Train\")\n",
    "val_metrics = evaluate_overall_metrics(model, val_loader, device, label_encoder, dataset_name=\"Validation\")\n",
    "test_metrics = evaluate_overall_metrics(model, test_loader, device, label_encoder, dataset_name=\"Test\")\n",
    "\n",
    "df_metrics = pd.DataFrame([train_metrics, val_metrics, test_metrics])"
   ]
  },
  {
   "cell_type": "code",
   "execution_count": 112,
   "metadata": {},
   "outputs": [],
   "source": [
    "def evaluate_per_class_metrics(model, data_loader, device, label_encoder, dataset_name=\"Dataset\"):\n",
    "\n",
    "    model.eval()\n",
    "    predictions, true_labels, probabilities = [], [], []\n",
    "\n",
    "    with torch.no_grad():\n",
    "        for batch in data_loader:\n",
    "            batch = tuple(t.to(device) for t in batch)\n",
    "            input_ids, attention_mask, labels = batch\n",
    "\n",
    "            outputs = model(input_ids, attention_mask=attention_mask)\n",
    "            probs = torch.nn.functional.softmax(outputs.logits, dim=1) \n",
    "            preds = torch.argmax(probs, dim=1)\n",
    "\n",
    "            predictions.extend(preds.cpu().numpy())\n",
    "            true_labels.extend(labels.cpu().numpy())\n",
    "            probabilities.extend(probs.cpu().numpy())\n",
    "\n",
    "    predictions = np.array(predictions)\n",
    "    true_labels = np.array(true_labels)\n",
    "    probabilities = np.array(probabilities)\n",
    "\n",
    "    class_report_dict = classification_report(true_labels, predictions, target_names=label_encoder.classes_, output_dict=True)\n",
    "\n",
    "    true_one_hot = np.eye(len(label_encoder.classes_))[true_labels]\n",
    "    per_class_metrics = []\n",
    "\n",
    "    for i, class_name in enumerate(label_encoder.classes_):\n",
    "        true_binary = true_one_hot[:, i]  \n",
    "        prob_class = probabilities[:, i] \n",
    "        \n",
    "        precision = class_report_dict[class_name]['precision']\n",
    "        recall = class_report_dict[class_name]['recall']\n",
    "        f1 = class_report_dict[class_name]['f1-score']\n",
    "        support = class_report_dict[class_name]['support']\n",
    "        \n",
    "        roc_auc_class = roc_auc_score(true_binary, prob_class) if np.sum(true_binary) > 0 else np.nan\n",
    "        pr_auc_class = average_precision_score(true_binary, prob_class) if np.sum(true_binary) > 0 else np.nan\n",
    "\n",
    "        per_class_metrics.append({\n",
    "            \"Dataset\": dataset_name,\n",
    "            \"Class\": class_name,\n",
    "            \"Precision\": precision,\n",
    "            \"Recall\": recall,\n",
    "            \"F1-Score\": f1,\n",
    "            \"Support\": support,  # Number of examples for this class\n",
    "            \"AUC-ROC\": roc_auc_class,\n",
    "            \"AUC-PR\": pr_auc_class\n",
    "        })\n",
    "\n",
    "    df_per_class = pd.DataFrame(per_class_metrics)\n",
    "\n",
    "    return df_per_class\n"
   ]
  },
  {
   "cell_type": "code",
   "execution_count": 114,
   "metadata": {},
   "outputs": [],
   "source": [
    "df_per_class_test = evaluate_per_class_metrics(model, test_loader, device, label_encoder, dataset_name=\"Test\")"
   ]
  },
  {
   "cell_type": "markdown",
   "metadata": {},
   "source": [
    "### Classes where prediction is very low"
   ]
  },
  {
   "cell_type": "code",
   "execution_count": 145,
   "metadata": {},
   "outputs": [
    {
     "data": {
      "text/html": [
       "<div>\n",
       "<style scoped>\n",
       "    .dataframe tbody tr th:only-of-type {\n",
       "        vertical-align: middle;\n",
       "    }\n",
       "\n",
       "    .dataframe tbody tr th {\n",
       "        vertical-align: top;\n",
       "    }\n",
       "\n",
       "    .dataframe thead th {\n",
       "        text-align: right;\n",
       "    }\n",
       "</style>\n",
       "<table border=\"1\" class=\"dataframe\">\n",
       "  <thead>\n",
       "    <tr style=\"text-align: right;\">\n",
       "      <th></th>\n",
       "      <th>Dataset</th>\n",
       "      <th>Class</th>\n",
       "      <th>Precision</th>\n",
       "      <th>Recall</th>\n",
       "      <th>F1-Score</th>\n",
       "      <th>Support</th>\n",
       "      <th>AUC-ROC</th>\n",
       "      <th>AUC-PR</th>\n",
       "    </tr>\n",
       "  </thead>\n",
       "  <tbody>\n",
       "    <tr>\n",
       "      <th>5</th>\n",
       "      <td>Test</td>\n",
       "      <td>animal_food</td>\n",
       "      <td>0.0</td>\n",
       "      <td>0.0</td>\n",
       "      <td>0.0</td>\n",
       "      <td>10.0</td>\n",
       "      <td>0.861890</td>\n",
       "      <td>0.233923</td>\n",
       "    </tr>\n",
       "    <tr>\n",
       "      <th>11</th>\n",
       "      <td>Test</td>\n",
       "      <td>auto_part</td>\n",
       "      <td>0.0</td>\n",
       "      <td>0.0</td>\n",
       "      <td>0.0</td>\n",
       "      <td>10.0</td>\n",
       "      <td>0.920363</td>\n",
       "      <td>0.201940</td>\n",
       "    </tr>\n",
       "    <tr>\n",
       "      <th>13</th>\n",
       "      <td>Test</td>\n",
       "      <td>automotive_exhaust</td>\n",
       "      <td>0.0</td>\n",
       "      <td>0.0</td>\n",
       "      <td>0.0</td>\n",
       "      <td>10.0</td>\n",
       "      <td>0.977395</td>\n",
       "      <td>0.335969</td>\n",
       "    </tr>\n",
       "    <tr>\n",
       "      <th>15</th>\n",
       "      <td>Test</td>\n",
       "      <td>baby_cloth</td>\n",
       "      <td>0.0</td>\n",
       "      <td>0.0</td>\n",
       "      <td>0.0</td>\n",
       "      <td>9.0</td>\n",
       "      <td>0.971066</td>\n",
       "      <td>0.129819</td>\n",
       "    </tr>\n",
       "    <tr>\n",
       "      <th>22</th>\n",
       "      <td>Test</td>\n",
       "      <td>bait</td>\n",
       "      <td>0.0</td>\n",
       "      <td>0.0</td>\n",
       "      <td>0.0</td>\n",
       "      <td>9.0</td>\n",
       "      <td>0.955502</td>\n",
       "      <td>0.228897</td>\n",
       "    </tr>\n",
       "  </tbody>\n",
       "</table>\n",
       "</div>"
      ],
      "text/plain": [
       "   Dataset               Class  Precision  Recall  F1-Score  Support  \\\n",
       "5     Test         animal_food        0.0     0.0       0.0     10.0   \n",
       "11    Test           auto_part        0.0     0.0       0.0     10.0   \n",
       "13    Test  automotive_exhaust        0.0     0.0       0.0     10.0   \n",
       "15    Test          baby_cloth        0.0     0.0       0.0      9.0   \n",
       "22    Test                bait        0.0     0.0       0.0      9.0   \n",
       "\n",
       "     AUC-ROC    AUC-PR  \n",
       "5   0.861890  0.233923  \n",
       "11  0.920363  0.201940  \n",
       "13  0.977395  0.335969  \n",
       "15  0.971066  0.129819  \n",
       "22  0.955502  0.228897  "
      ]
     },
     "execution_count": 145,
     "metadata": {},
     "output_type": "execute_result"
    }
   ],
   "source": [
    "df_per_class_test[df_per_class_test['F1-Score']<0.01].head()"
   ]
  },
  {
   "cell_type": "code",
   "execution_count": 120,
   "metadata": {},
   "outputs": [],
   "source": [
    "def get_model_predictions(model, data_loader, device):\n",
    "    model.eval()\n",
    "    true_labels, predicted_probs = [], []\n",
    "\n",
    "    with torch.no_grad():\n",
    "        for batch in data_loader:\n",
    "            batch = tuple(t.to(device) for t in batch)\n",
    "            input_ids, attention_mask, labels = batch\n",
    "\n",
    "            outputs = model(input_ids, attention_mask=attention_mask)\n",
    "            probs = torch.nn.functional.softmax(outputs.logits, dim=1)  \n",
    "\n",
    "            predicted_probs.extend(probs.cpu().numpy())  \n",
    "            true_labels.extend(labels.cpu().numpy())\n",
    "\n",
    "    return np.array(true_labels), np.array(predicted_probs)  \n"
   ]
  },
  {
   "cell_type": "code",
   "execution_count": 122,
   "metadata": {},
   "outputs": [],
   "source": [
    "train_true, train_probs = get_model_predictions(model, train_loader, device)\n",
    "val_true, val_probs = get_model_predictions(model, val_loader, device)\n",
    "test_true, test_probs = get_model_predictions(model, test_loader, device)\n",
    "\n",
    "true_labels_dict = {\"Train\": train_true, \"Validation\": val_true, \"Test\": test_true}\n",
    "predicted_probs_dict = {\"Train\": train_probs, \"Validation\": val_probs, \"Test\": test_probs}"
   ]
  },
  {
   "cell_type": "code",
   "execution_count": 123,
   "metadata": {},
   "outputs": [
    {
     "name": "stdout",
     "output_type": "stream",
     "text": [
      "Predicted Probabilities Shape: (3757, 383)\n",
      "Predicted Probabilities Example: [[0.00026208 0.00086399 0.00207272 ... 0.01007041 0.00272518 0.00058884]\n",
      " [0.00018674 0.00096883 0.00255271 ... 0.00385439 0.00220045 0.00101238]\n",
      " [0.00022745 0.00093051 0.0018056  ... 0.00371094 0.00379665 0.00073737]\n",
      " [0.00050513 0.00166824 0.00236099 ... 0.00163899 0.00041697 0.00232562]\n",
      " [0.01319814 0.00332575 0.00207661 ... 0.00077268 0.00037296 0.00762208]]\n"
     ]
    }
   ],
   "source": [
    "print(\"Predicted Probabilities Shape:\", test_probs.shape)  \n",
    "print(\"Predicted Probabilities Example:\", test_probs[:5])  "
   ]
  },
  {
   "cell_type": "code",
   "execution_count": 149,
   "metadata": {},
   "outputs": [],
   "source": [
    "max_probs = np.max(test_probs, axis=1)"
   ]
  },
  {
   "cell_type": "code",
   "execution_count": 151,
   "metadata": {},
   "outputs": [
    {
     "name": "stdout",
     "output_type": "stream",
     "text": [
      "Max Probability per Sample: Mean=0.0786, Min=0.0076, Max=0.4365\n"
     ]
    }
   ],
   "source": [
    "print(f\"Max Probability per Sample: Mean={np.mean(max_probs):.4f}, Min={np.min(max_probs):.4f}, Max={np.max(max_probs):.4f}\")"
   ]
  },
  {
   "cell_type": "markdown",
   "metadata": {},
   "source": [
    "## Note:\n",
    "On average, the model predicts a maximum probability of 0.08, which is quite low. The model is usually not very sure about the class"
   ]
  },
  {
   "cell_type": "code",
   "execution_count": 159,
   "metadata": {},
   "outputs": [
    {
     "data": {
      "image/png": "[encoded data removed]",
      "text/plain": [
       "<Figure size 800x600 with 1 Axes>"
      ]
     },
     "metadata": {},
     "output_type": "display_data"
    }
   ],
   "source": [
    "plt.figure(figsize=(8, 6))\n",
    "plt.hist(max_probs, bins=50, alpha=0.5, label=\"Maximum Probability\", color=\"red\")\n",
    "plt.axvline(np.mean(max_probs), color=\"red\", linestyle=\"--\", label=f\"Mean Max Prob: {np.mean(max_probs):.2f}\")\n",
    "\n",
    "plt.xlabel(\"Probability\")\n",
    "plt.ylabel(\"Frequency\")\n",
    "plt.title(\"Distribution of Average and Maximum Predicted Probabilities\")\n",
    "plt.legend()\n",
    "plt.grid()\n",
    "plt.show()"
   ]
  },
  {
   "cell_type": "markdown",
   "metadata": {},
   "source": [
    "## Check prediction of new spots"
   ]
  },
  {
   "cell_type": "code",
   "execution_count": 208,
   "metadata": {},
   "outputs": [],
   "source": [
    "index_to_label = {v: k for k, v in label_map.items()}"
   ]
  },
  {
   "cell_type": "code",
   "execution_count": 211,
   "metadata": {},
   "outputs": [],
   "source": [
    "def predict(text):\n",
    "    inputs = tokenizer(text, return_tensors=\"pt\", truncation=True, padding=True, max_length=32).to(device)\n",
    "    with torch.no_grad():\n",
    "        probs = torch.nn.functional.softmax(model(**inputs).logits, dim=-1)\n",
    "\n",
    "    top_3 = torch.topk(probs, k=3)\n",
    "\n",
    "\n",
    "    top_3_indices = [int(idx) for idx in top_3.indices.squeeze().tolist()]\n",
    "    top_3_probs = [float(prob) for prob in top_3.values.squeeze().tolist()]\n",
    "\n",
    "    top_3_labels = [index_to_label.get(idx, f\"Unknown ({idx})\") for idx in top_3_indices]\n",
    "\n",
    "    return list(zip(top_3_labels, top_3_probs))\n"
   ]
  },
  {
   "cell_type": "code",
   "execution_count": 213,
   "metadata": {},
   "outputs": [
    {
     "name": "stdout",
     "output_type": "stream",
     "text": [
      "\n",
      "News: my product title containing aquarelle\n",
      "Top 1: face_care (0.0125)\n",
      "Top 2: car_seat (0.0122)\n",
      "Top 3: software (0.0121)\n"
     ]
    }
   ],
   "source": [
    "news_text = \"my product title containing aquarelle\"\n",
    "\n",
    "predictions = predict(news_text)\n",
    "\n",
    "print(f\"\\nNews: {news_text}\")\n",
    "for rank, (label, prob) in enumerate(predictions, start=1):\n",
    "    print(f\"Top {rank}: {label} ({prob:.4f})\")\n"
   ]
  },
  {
   "cell_type": "markdown",
   "metadata": {},
   "source": [
    "# TF-IDF with XGB"
   ]
  },
  {
   "cell_type": "code",
   "execution_count": 165,
   "metadata": {},
   "outputs": [],
   "source": [
    "tfidf_vectorizer = TfidfVectorizer(max_features=3000)  \n",
    "X_train_tfidf = tfidf_vectorizer.fit_transform(train_texts)\n",
    "X_val_tfidf = tfidf_vectorizer.transform(val_texts)\n",
    "X_test_tfidf = tfidf_vectorizer.transform(test_texts)"
   ]
  },
  {
   "cell_type": "code",
   "execution_count": 167,
   "metadata": {},
   "outputs": [],
   "source": [
    "X_train_tfidf = scipy.sparse.csr_matrix(X_train_tfidf)\n",
    "X_val_tfidf = scipy.sparse.csr_matrix(X_val_tfidf)\n",
    "X_test_tfidf = scipy.sparse.csr_matrix(X_test_tfidf)"
   ]
  },
  {
   "cell_type": "code",
   "execution_count": 169,
   "metadata": {},
   "outputs": [],
   "source": [
    "dtrain = xgb.DMatrix(X_train_tfidf, label=train_labels)\n",
    "dval = xgb.DMatrix(X_val_tfidf, label=val_labels)\n",
    "dtest = xgb.DMatrix(X_test_tfidf, label=test_labels)"
   ]
  },
  {
   "cell_type": "code",
   "execution_count": 64,
   "metadata": {
    "collapsed": true,
    "jupyter": {
     "outputs_hidden": true
    }
   },
   "outputs": [
    {
     "name": "stdout",
     "output_type": "stream",
     "text": [
      "[0]\tValidation-mlogloss:5.88803\n",
      "[1]\tValidation-mlogloss:5.84456\n",
      "[2]\tValidation-mlogloss:5.79657\n",
      "[3]\tValidation-mlogloss:5.76064\n",
      "[4]\tValidation-mlogloss:5.72680\n",
      "[5]\tValidation-mlogloss:5.69824\n",
      "[6]\tValidation-mlogloss:5.67169\n",
      "[7]\tValidation-mlogloss:5.64398\n",
      "[8]\tValidation-mlogloss:5.60757\n",
      "[9]\tValidation-mlogloss:5.56783\n",
      "[10]\tValidation-mlogloss:5.52776\n",
      "[11]\tValidation-mlogloss:5.48820\n",
      "[12]\tValidation-mlogloss:5.44890\n",
      "[13]\tValidation-mlogloss:5.41215\n",
      "[14]\tValidation-mlogloss:5.38209\n",
      "[15]\tValidation-mlogloss:5.33622\n",
      "[16]\tValidation-mlogloss:5.30142\n",
      "[17]\tValidation-mlogloss:5.26767\n",
      "[18]\tValidation-mlogloss:5.21551\n",
      "[19]\tValidation-mlogloss:5.17009\n",
      "[20]\tValidation-mlogloss:5.13621\n",
      "[21]\tValidation-mlogloss:5.08886\n",
      "[22]\tValidation-mlogloss:5.05284\n",
      "[23]\tValidation-mlogloss:5.01717\n",
      "[24]\tValidation-mlogloss:4.98046\n",
      "[25]\tValidation-mlogloss:4.94726\n",
      "[26]\tValidation-mlogloss:4.91248\n",
      "[27]\tValidation-mlogloss:4.86989\n",
      "[28]\tValidation-mlogloss:4.83086\n",
      "[29]\tValidation-mlogloss:4.79338\n",
      "[30]\tValidation-mlogloss:4.75609\n",
      "[31]\tValidation-mlogloss:4.72038\n",
      "[32]\tValidation-mlogloss:4.68139\n",
      "[33]\tValidation-mlogloss:4.64664\n",
      "[34]\tValidation-mlogloss:4.61330\n",
      "[35]\tValidation-mlogloss:4.57643\n",
      "[36]\tValidation-mlogloss:4.54118\n",
      "[37]\tValidation-mlogloss:4.50559\n",
      "[38]\tValidation-mlogloss:4.46860\n",
      "[39]\tValidation-mlogloss:4.44058\n",
      "[40]\tValidation-mlogloss:4.40453\n",
      "[41]\tValidation-mlogloss:4.37157\n",
      "[42]\tValidation-mlogloss:4.33790\n",
      "[43]\tValidation-mlogloss:4.30426\n",
      "[44]\tValidation-mlogloss:4.27268\n",
      "[45]\tValidation-mlogloss:4.22763\n",
      "[46]\tValidation-mlogloss:4.20058\n",
      "[47]\tValidation-mlogloss:4.16763\n",
      "[48]\tValidation-mlogloss:4.14031\n",
      "[49]\tValidation-mlogloss:4.11612\n",
      "[50]\tValidation-mlogloss:4.09500\n",
      "[51]\tValidation-mlogloss:4.07099\n",
      "[52]\tValidation-mlogloss:4.04716\n",
      "[53]\tValidation-mlogloss:4.02491\n",
      "[54]\tValidation-mlogloss:3.99881\n",
      "[55]\tValidation-mlogloss:3.97160\n",
      "[56]\tValidation-mlogloss:3.94516\n",
      "[57]\tValidation-mlogloss:3.92194\n",
      "[58]\tValidation-mlogloss:3.89796\n",
      "[59]\tValidation-mlogloss:3.87532\n",
      "[60]\tValidation-mlogloss:3.85280\n",
      "[61]\tValidation-mlogloss:3.83191\n",
      "[62]\tValidation-mlogloss:3.81064\n",
      "[63]\tValidation-mlogloss:3.78351\n",
      "[64]\tValidation-mlogloss:3.75417\n",
      "[65]\tValidation-mlogloss:3.72904\n",
      "[66]\tValidation-mlogloss:3.70255\n",
      "[67]\tValidation-mlogloss:3.66820\n",
      "[68]\tValidation-mlogloss:3.64306\n",
      "[69]\tValidation-mlogloss:3.61550\n",
      "[70]\tValidation-mlogloss:3.59004\n",
      "[71]\tValidation-mlogloss:3.56682\n",
      "[72]\tValidation-mlogloss:3.54161\n",
      "[73]\tValidation-mlogloss:3.52186\n",
      "[74]\tValidation-mlogloss:3.50205\n",
      "[75]\tValidation-mlogloss:3.47933\n",
      "[76]\tValidation-mlogloss:3.45927\n",
      "[77]\tValidation-mlogloss:3.43727\n",
      "[78]\tValidation-mlogloss:3.41965\n",
      "[79]\tValidation-mlogloss:3.40094\n",
      "[80]\tValidation-mlogloss:3.38317\n",
      "[81]\tValidation-mlogloss:3.36619\n",
      "[82]\tValidation-mlogloss:3.34829\n",
      "[83]\tValidation-mlogloss:3.32864\n",
      "[84]\tValidation-mlogloss:3.31262\n",
      "[85]\tValidation-mlogloss:3.29676\n",
      "[86]\tValidation-mlogloss:3.27968\n",
      "[87]\tValidation-mlogloss:3.26332\n",
      "[88]\tValidation-mlogloss:3.24592\n",
      "[89]\tValidation-mlogloss:3.23325\n",
      "[90]\tValidation-mlogloss:3.22064\n",
      "[91]\tValidation-mlogloss:3.20810\n",
      "[92]\tValidation-mlogloss:3.19705\n",
      "[93]\tValidation-mlogloss:3.18632\n",
      "[94]\tValidation-mlogloss:3.17321\n",
      "[95]\tValidation-mlogloss:3.16206\n",
      "[96]\tValidation-mlogloss:3.14891\n",
      "[97]\tValidation-mlogloss:3.13616\n",
      "[98]\tValidation-mlogloss:3.12504\n",
      "[99]\tValidation-mlogloss:3.11458\n"
     ]
    }
   ],
   "source": [
    "params = {\n",
    "    \"objective\": \"multi:softprob\",  \n",
    "    \"num_class\": len(set(train_labels)),  \n",
    "    \"max_depth\": 6,  \n",
    "    \"learning_rate\": 0.1,  \n",
    "    \"subsample\": 0.8,  \n",
    "    \"colsample_bytree\": 0.8,  \n",
    "    \"eval_metric\": \"mlogloss\",\n",
    "    \"tree_method\": \"hist\"  \n",
    "}\n",
    "\n",
    "xgb_model = xgb.train(params, dtrain, num_boost_round=100, evals=[(dval, \"Validation\")])\n"
   ]
  },
  {
   "cell_type": "code",
   "execution_count": 100,
   "metadata": {},
   "outputs": [],
   "source": [
    "y_train_probs_xgb = xgb_model.predict(dtrain)  \n",
    "y_val_probs_xgb = xgb_model.predict(dval)\n",
    "y_test_probs_xgb = xgb_model.predict(dtest)"
   ]
  },
  {
   "cell_type": "code",
   "execution_count": null,
   "metadata": {},
   "outputs": [],
   "source": [
    "y_train_pred_xgb = np.argmax(y_train_probs_xgb, axis=1)\n",
    "y_val_pred_xgb = np.argmax(y_val_probs_xgb, axis=1)\n",
    "y_test_pred_xgb = np.argmax(y_test_probs_xgb, axis=1)"
   ]
  },
  {
   "cell_type": "code",
   "execution_count": 102,
   "metadata": {},
   "outputs": [],
   "source": [
    "def evaluate_model_xgb(y_true, y_pred, y_probs, num_classes):\n",
    "    metrics = {\n",
    "        \"Accuracy\": accuracy_score(y_true, y_pred),\n",
    "        \"Precision\": precision_score(y_true, y_pred, average=\"weighted\"),\n",
    "        \"Recall\": recall_score(y_true, y_pred, average=\"weighted\"),\n",
    "        \"F1-score\": f1_score(y_true, y_pred, average=\"weighted\"),\n",
    "    }\n",
    "    \n",
    "    if num_classes > 2:\n",
    "        metrics[\"AUC-ROC\"] = roc_auc_score(y_true, y_probs, multi_class=\"ovr\")\n",
    "        metrics[\"AUC-PR\"] = average_precision_score(y_true, y_probs, average=\"weighted\")\n",
    "    \n",
    "    return metrics\n",
    "\n"
   ]
  },
  {
   "cell_type": "code",
   "execution_count": 104,
   "metadata": {},
   "outputs": [],
   "source": [
    "num_classes = len(set(train_labels))\n",
    "\n",
    "train_metrics_xgb = evaluate_model_xgb(train_labels, y_train_pred_xgb, y_train_probs_xgb, num_classes)\n",
    "val_metrics_xgb = evaluate_model_xgb(val_labels, y_val_pred_xgb, y_val_probs_xgb, num_classes)\n",
    "test_metrics_xgb = evaluate_model_xgb(test_labels, y_test_pred_xgb, y_test_probs_xgb, num_classes)"
   ]
  },
  {
   "cell_type": "code",
   "execution_count": 105,
   "metadata": {},
   "outputs": [],
   "source": [
    "df_metrics_xgb = pd.DataFrame([train_metrics_xgb, val_metrics_xgb, test_metrics_xgb])"
   ]
  },
  {
   "cell_type": "code",
   "execution_count": 108,
   "metadata": {},
   "outputs": [
    {
     "data": {
      "text/html": [
       "<div>\n",
       "<style scoped>\n",
       "    .dataframe tbody tr th:only-of-type {\n",
       "        vertical-align: middle;\n",
       "    }\n",
       "\n",
       "    .dataframe tbody tr th {\n",
       "        vertical-align: top;\n",
       "    }\n",
       "\n",
       "    .dataframe thead th {\n",
       "        text-align: right;\n",
       "    }\n",
       "</style>\n",
       "<table border=\"1\" class=\"dataframe\">\n",
       "  <thead>\n",
       "    <tr style=\"text-align: right;\">\n",
       "      <th></th>\n",
       "      <th>Accuracy</th>\n",
       "      <th>Precision</th>\n",
       "      <th>Recall</th>\n",
       "      <th>F1-score</th>\n",
       "      <th>AUC-ROC</th>\n",
       "      <th>AUC-PR</th>\n",
       "    </tr>\n",
       "  </thead>\n",
       "  <tbody>\n",
       "    <tr>\n",
       "      <th>0</th>\n",
       "      <td>0.598842</td>\n",
       "      <td>0.707971</td>\n",
       "      <td>0.598842</td>\n",
       "      <td>0.634029</td>\n",
       "      <td>0.945298</td>\n",
       "      <td>0.618633</td>\n",
       "    </tr>\n",
       "    <tr>\n",
       "      <th>1</th>\n",
       "      <td>0.487889</td>\n",
       "      <td>0.568843</td>\n",
       "      <td>0.487889</td>\n",
       "      <td>0.508068</td>\n",
       "      <td>0.896478</td>\n",
       "      <td>0.490092</td>\n",
       "    </tr>\n",
       "    <tr>\n",
       "      <th>2</th>\n",
       "      <td>0.487091</td>\n",
       "      <td>0.572039</td>\n",
       "      <td>0.487091</td>\n",
       "      <td>0.509452</td>\n",
       "      <td>0.895469</td>\n",
       "      <td>0.488534</td>\n",
       "    </tr>\n",
       "  </tbody>\n",
       "</table>\n",
       "</div>"
      ],
      "text/plain": [
       "   Accuracy  Precision    Recall  F1-score   AUC-ROC    AUC-PR\n",
       "0  0.598842   0.707971  0.598842  0.634029  0.945298  0.618633\n",
       "1  0.487889   0.568843  0.487889  0.508068  0.896478  0.490092\n",
       "2  0.487091   0.572039  0.487091  0.509452  0.895469  0.488534"
      ]
     },
     "execution_count": 108,
     "metadata": {},
     "output_type": "execute_result"
    }
   ],
   "source": [
    "df_metrics_xgb"
   ]
  },
  {
   "cell_type": "markdown",
   "metadata": {},
   "source": [
    "## Note:\n",
    "The combination of XGBoost Classifier with TF-IDF vectorization took significantly less time to train and resulted in slightly lower evaluation metrics compared to BERT."
   ]
  },
  {
   "cell_type": "markdown",
   "metadata": {},
   "source": [
    "## Save XGB and Load Back"
   ]
  },
  {
   "cell_type": "code",
   "execution_count": 124,
   "metadata": {},
   "outputs": [],
   "source": [
    "xgb_model.save_model(\"xgboost_tfidf_model.json\")"
   ]
  },
  {
   "cell_type": "code",
   "execution_count": 125,
   "metadata": {},
   "outputs": [
    {
     "data": {
      "text/plain": [
       "['tfidf_vectorizer.pkl']"
      ]
     },
     "execution_count": 125,
     "metadata": {},
     "output_type": "execute_result"
    }
   ],
   "source": [
    "joblib.dump(tfidf_vectorizer, \"tfidf_vectorizer.pkl\")"
   ]
  },
  {
   "cell_type": "code",
   "execution_count": 171,
   "metadata": {},
   "outputs": [],
   "source": [
    "xgb_model = xgb.Booster()\n",
    "xgb_model.load_model(\"xgboost_tfidf_model.json\")\n",
    "\n",
    "tfidf_vectorizer = joblib.load(\"tfidf_vectorizer.pkl\")"
   ]
  },
  {
   "cell_type": "markdown",
   "metadata": {},
   "source": [
    "## Check the results of new spots"
   ]
  },
  {
   "cell_type": "code",
   "execution_count": 187,
   "metadata": {},
   "outputs": [
    {
     "name": "stdout",
     "output_type": "stream",
     "text": [
      "\n",
      "Product: my product title containing aquarelle\n",
      "Top 1: scale_model (0.0070)\n",
      "Top 2: postcard (0.0066)\n",
      "Top 3: bus (0.0066)\n"
     ]
    }
   ],
   "source": [
    "\n",
    "new_texts = [\"my product title containing aquarelle\"]\n",
    "new_texts_tfidf = tfidf_vectorizer.transform(new_texts)\n",
    "dnew = xgb.DMatrix(new_texts_tfidf)\n",
    "\n",
    "new_preds = xgb_model.predict(dnew)  \n",
    "\n",
    "top_3_indices = np.argsort(new_preds, axis=1)[:, -3:][:, ::-1]  \n",
    "top_3_probs = np.sort(new_preds, axis=1)[:, -3:][:, ::-1] \n",
    "\n",
    "top_3_labels = np.array([label_encoder.inverse_transform(indices) for indices in top_3_indices])\n",
    "\n",
    "for i, text in enumerate(new_texts):\n",
    "    print(f\"\\nProduct: {text}\")\n",
    "    for rank, (label, prob) in enumerate(zip(top_3_labels[i], top_3_probs[i])):\n",
    "        print(f\"Top {rank+1}: {label} ({prob:.4f})\")\n"
   ]
  },
  {
   "cell_type": "code",
   "execution_count": null,
   "metadata": {},
   "outputs": [],
   "source": []
  },
  {
   "cell_type": "code",
   "execution_count": null,
   "metadata": {},
   "outputs": [],
   "source": []
  },
  {
   "cell_type": "code",
   "execution_count": null,
   "metadata": {},
   "outputs": [],
   "source": []
  }
 ],
 "metadata": {
  "kernelspec": {
   "display_name": "Python [conda env:base] *",
   "language": "python",
   "name": "conda-base-py"
  },
  "language_info": {
   "codemirror_mode": {
    "name": "ipython",
    "version": 3
   },
   "file_extension": ".py",
   "mimetype": "text/x-python",
   "name": "python",
   "nbconvert_exporter": "python",
   "pygments_lexer": "ipython3",
   "version": "3.11.5"
  },
  "pycharm": {
   "stem_cell": {
    "cell_type": "raw",
    "metadata": {
     "collapsed": false
    },
    "source": []
   }
  }
 },
 "nbformat": 4,
 "nbformat_minor": 4
}
